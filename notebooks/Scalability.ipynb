{
 "cells": [
  {
   "cell_type": "code",
   "execution_count": 1,
   "id": "bc9b91d3",
   "metadata": {},
   "outputs": [],
   "source": [
    "import os\n",
    "import warnings\n",
    "warnings.filterwarnings(\"ignore\")\n",
    "\n",
    "import numpy as np\n",
    "import pandas as pd\n",
    "import scanpy as sc\n",
    "import umap\n",
    "\n",
    "from sklearn.metrics import (\n",
    "    roc_curve, auc\n",
    ")\n",
    "\n",
    "from cytoemd import CytoEMD\n",
    "from collections import OrderedDict, defaultdict\n",
    "from anndata import read_h5ad, AnnData\n",
    "from time import time\n",
    "\n",
    "import matplotlib.pyplot as plt\n",
    "from matplotlib.pyplot import rc_context\n",
    "%matplotlib inline\n",
    "%config InlineBackend.figure_format='retina'"
   ]
  },
  {
   "cell_type": "code",
   "execution_count": 2,
   "id": "eb8ada5f",
   "metadata": {},
   "outputs": [],
   "source": [
    "adata = read_h5ad(\"../data/aml.h5ad\")\n",
    "marker_in_use = ['IgG1-FITC','IgG1-PE','CD45-ECD-1','IgG1-PC5','IgG1-PC7','CD45-ECD-2','CD19-PC5','CD20-PC7',\n",
    "              'CD7-FITC','CD4-PE','CD45-ECD-3','CD8-PC5','CD2-PC7','CD15-FITC','CD13-PE','CD45-ECD-4',\n",
    "              'CD16-PC5','CD56-PC7','CD14-FITC','CD11c-PE','CD45-ECD-5','CD64-PC5','CD33-PC7','HLA-DR-FITC',\n",
    "              'CD117-PE','CD45-ECD-6','CD34-PC5','CD38-PC7','CD5-FITC','CD19-PE','CD45-ECD-7','CD3-PC5','CD10-PC7']\n",
    "adata.var.index = adata.var['pns_label']\n",
    "adata.var.index.name = 'index'\n",
    "adata = adata[:,marker_in_use]\n",
    "\n",
    "co_factor = 5.\n",
    "# set seed for reproducibility\n",
    "seed = 0\n",
    "N = 100\n",
    "\n",
    "adata.X = np.arcsinh(adata.X / co_factor)"
   ]
  },
  {
   "cell_type": "code",
   "execution_count": 3,
   "id": "9ff1b19b",
   "metadata": {},
   "outputs": [
    {
     "data": {
      "text/html": [
       "<div>\n",
       "<style scoped>\n",
       "    .dataframe tbody tr th:only-of-type {\n",
       "        vertical-align: middle;\n",
       "    }\n",
       "\n",
       "    .dataframe tbody tr th {\n",
       "        vertical-align: top;\n",
       "    }\n",
       "\n",
       "    .dataframe thead th {\n",
       "        text-align: right;\n",
       "    }\n",
       "</style>\n",
       "<table border=\"1\" class=\"dataframe\">\n",
       "  <thead>\n",
       "    <tr style=\"text-align: right;\">\n",
       "      <th></th>\n",
       "      <th>FCS_file</th>\n",
       "      <th>Individual</th>\n",
       "      <th>Condition</th>\n",
       "    </tr>\n",
       "  </thead>\n",
       "  <tbody>\n",
       "    <tr>\n",
       "      <th>1-1</th>\n",
       "      <td>0001.FCS</td>\n",
       "      <td>1</td>\n",
       "      <td>normal</td>\n",
       "    </tr>\n",
       "    <tr>\n",
       "      <th>1-2</th>\n",
       "      <td>0001.FCS</td>\n",
       "      <td>1</td>\n",
       "      <td>normal</td>\n",
       "    </tr>\n",
       "    <tr>\n",
       "      <th>1-3</th>\n",
       "      <td>0001.FCS</td>\n",
       "      <td>1</td>\n",
       "      <td>normal</td>\n",
       "    </tr>\n",
       "    <tr>\n",
       "      <th>1-4</th>\n",
       "      <td>0001.FCS</td>\n",
       "      <td>1</td>\n",
       "      <td>normal</td>\n",
       "    </tr>\n",
       "    <tr>\n",
       "      <th>1-5</th>\n",
       "      <td>0001.FCS</td>\n",
       "      <td>1</td>\n",
       "      <td>normal</td>\n",
       "    </tr>\n",
       "  </tbody>\n",
       "</table>\n",
       "</div>"
      ],
      "text/plain": [
       "     FCS_file  Individual Condition\n",
       "1-1  0001.FCS           1    normal\n",
       "1-2  0001.FCS           1    normal\n",
       "1-3  0001.FCS           1    normal\n",
       "1-4  0001.FCS           1    normal\n",
       "1-5  0001.FCS           1    normal"
      ]
     },
     "execution_count": 3,
     "metadata": {},
     "output_type": "execute_result"
    }
   ],
   "source": [
    "adata.obs.head()"
   ]
  },
  {
   "cell_type": "code",
   "execution_count": 4,
   "id": "68fe3412",
   "metadata": {},
   "outputs": [],
   "source": [
    "adata_list = [adata[adata.obs['FCS_file'] == sample, :] for sample in adata.obs['FCS_file'].unique()]\n",
    "sample_meta_list = [_adata.obs[['FCS_file', 'Individual', 'Condition']].iloc[0].T for _adata in adata_list]\n",
    "sample_meta = pd.concat(sample_meta_list, axis=1).T"
   ]
  },
  {
   "cell_type": "markdown",
   "id": "e8e8b0f0",
   "metadata": {},
   "source": [
    "### Subsample Cells"
   ]
  },
  {
   "cell_type": "code",
   "execution_count": 5,
   "id": "8f5773ba",
   "metadata": {},
   "outputs": [],
   "source": [
    "adata_list_1k = [sc.pp.subsample(adata, random_state=0, n_obs=1000, copy=True) for adata in adata_list[:N]]\n",
    "adata_list_2k = [sc.pp.subsample(adata, random_state=0, n_obs=2000, copy=True) for adata in adata_list[:N]]\n",
    "adata_list_3k = [sc.pp.subsample(adata, random_state=0, n_obs=3000, copy=True) for adata in adata_list[:N]]\n",
    "adata_list_4k = [sc.pp.subsample(adata, random_state=0, n_obs=4000, copy=True) for adata in adata_list[:N]]\n",
    "adata_list_5k = [sc.pp.subsample(adata, random_state=0, n_obs=5000, copy=True) for adata in adata_list[:N]]\n",
    "adata_list_8k = [sc.pp.subsample(adata, random_state=0, n_obs=8000, copy=True) for adata in adata_list[:N]]\n",
    "\n",
    "subsample_adata_list = [adata_list_1k, adata_list_2k, adata_list_3k, adata_list_4k, adata_list_5k, adata_list_8k]"
   ]
  },
  {
   "cell_type": "markdown",
   "id": "0f4157a2",
   "metadata": {},
   "source": [
    "### CPU=1"
   ]
  },
  {
   "cell_type": "code",
   "execution_count": 6,
   "id": "d7a7da51",
   "metadata": {},
   "outputs": [
    {
     "name": "stderr",
     "output_type": "stream",
     "text": [
      "100%|█████████████████████████████████████████████████████████████████████████████████████████████████████████████████████████| 4950/4950 [01:09<00:00, 71.61it/s]\n",
      "100%|█████████████████████████████████████████████████████████████████████████████████████████████████████████████████████████| 4950/4950 [01:26<00:00, 57.28it/s]\n",
      "100%|█████████████████████████████████████████████████████████████████████████████████████████████████████████████████████████| 4950/4950 [01:41<00:00, 48.75it/s]\n",
      "100%|█████████████████████████████████████████████████████████████████████████████████████████████████████████████████████████| 4950/4950 [01:57<00:00, 42.17it/s]\n",
      "100%|█████████████████████████████████████████████████████████████████████████████████████████████████████████████████████████| 4950/4950 [02:12<00:00, 37.50it/s]\n",
      "100%|█████████████████████████████████████████████████████████████████████████████████████████████████████████████████████████| 4950/4950 [02:56<00:00, 27.97it/s]\n"
     ]
    }
   ],
   "source": [
    "timing_res = defaultdict(list)\n",
    "\n",
    "for _adata in subsample_adata_list:\n",
    "    model = CytoEMD(random_state=0, use_fast=True, n_cpus=1)\n",
    "    start_time = time()\n",
    "    embeddings = model.fit_transform(_adata)\n",
    "    timing_res[1].append(time() - start_time)"
   ]
  },
  {
   "cell_type": "markdown",
   "id": "d05185c9",
   "metadata": {},
   "source": [
    "### CPU=2"
   ]
  },
  {
   "cell_type": "code",
   "execution_count": 7,
   "id": "8b8dac6b",
   "metadata": {},
   "outputs": [
    {
     "name": "stderr",
     "output_type": "stream",
     "text": [
      "100%|████████████████████████████████████████████████████████████████████████████████████████████████████████████████████████| 4950/4950 [00:34<00:00, 141.52it/s]\n",
      "100%|████████████████████████████████████████████████████████████████████████████████████████████████████████████████████████| 4950/4950 [00:43<00:00, 114.26it/s]\n",
      "100%|█████████████████████████████████████████████████████████████████████████████████████████████████████████████████████████| 4950/4950 [00:51<00:00, 96.18it/s]\n",
      "100%|█████████████████████████████████████████████████████████████████████████████████████████████████████████████████████████| 4950/4950 [00:58<00:00, 83.91it/s]\n",
      "100%|█████████████████████████████████████████████████████████████████████████████████████████████████████████████████████████| 4950/4950 [01:06<00:00, 74.45it/s]\n",
      "100%|█████████████████████████████████████████████████████████████████████████████████████████████████████████████████████████| 4950/4950 [01:29<00:00, 55.26it/s]\n"
     ]
    }
   ],
   "source": [
    "for _adata in subsample_adata_list:\n",
    "    model = CytoEMD(random_state=0, use_fast=True, n_cpus=2)\n",
    "    start_time = time()\n",
    "    embeddings = model.fit_transform(_adata)\n",
    "    timing_res[2].append(time() - start_time)"
   ]
  },
  {
   "cell_type": "markdown",
   "id": "f3b00104",
   "metadata": {},
   "source": [
    "### CPU=4"
   ]
  },
  {
   "cell_type": "code",
   "execution_count": 8,
   "id": "95f92749",
   "metadata": {},
   "outputs": [
    {
     "name": "stderr",
     "output_type": "stream",
     "text": [
      "100%|████████████████████████████████████████████████████████████████████████████████████████████████████████████████████████| 4950/4950 [00:17<00:00, 280.85it/s]\n",
      "100%|████████████████████████████████████████████████████████████████████████████████████████████████████████████████████████| 4950/4950 [00:21<00:00, 226.03it/s]\n",
      "100%|████████████████████████████████████████████████████████████████████████████████████████████████████████████████████████| 4950/4950 [00:25<00:00, 191.64it/s]\n",
      "100%|████████████████████████████████████████████████████████████████████████████████████████████████████████████████████████| 4950/4950 [00:30<00:00, 163.70it/s]\n",
      "100%|████████████████████████████████████████████████████████████████████████████████████████████████████████████████████████| 4950/4950 [00:34<00:00, 142.45it/s]\n",
      "100%|████████████████████████████████████████████████████████████████████████████████████████████████████████████████████████| 4950/4950 [00:47<00:00, 103.55it/s]\n"
     ]
    }
   ],
   "source": [
    "for _adata in subsample_adata_list:\n",
    "    model = CytoEMD(random_state=0, use_fast=True, n_cpus=4)\n",
    "    start_time = time()\n",
    "    embeddings = model.fit_transform(_adata)\n",
    "    timing_res[4].append(time() - start_time)"
   ]
  },
  {
   "cell_type": "markdown",
   "id": "238f5283",
   "metadata": {},
   "source": [
    "### CPU=8"
   ]
  },
  {
   "cell_type": "code",
   "execution_count": 9,
   "id": "361cc267",
   "metadata": {},
   "outputs": [
    {
     "name": "stderr",
     "output_type": "stream",
     "text": [
      "100%|████████████████████████████████████████████████████████████████████████████████████████████████████████████████████████| 4950/4950 [00:10<00:00, 494.02it/s]\n",
      "100%|████████████████████████████████████████████████████████████████████████████████████████████████████████████████████████| 4950/4950 [00:12<00:00, 397.92it/s]\n",
      "100%|████████████████████████████████████████████████████████████████████████████████████████████████████████████████████████| 4950/4950 [00:15<00:00, 329.67it/s]\n",
      "100%|████████████████████████████████████████████████████████████████████████████████████████████████████████████████████████| 4950/4950 [00:17<00:00, 275.04it/s]\n",
      "100%|████████████████████████████████████████████████████████████████████████████████████████████████████████████████████████| 4950/4950 [00:20<00:00, 245.56it/s]\n",
      "100%|████████████████████████████████████████████████████████████████████████████████████████████████████████████████████████| 4950/4950 [00:28<00:00, 172.36it/s]\n"
     ]
    }
   ],
   "source": [
    "for _adata in subsample_adata_list:\n",
    "    model = CytoEMD(random_state=0, use_fast=True, n_cpus=8)\n",
    "    start_time = time()\n",
    "    embeddings = model.fit_transform(_adata)\n",
    "    timing_res[8].append(time() - start_time)"
   ]
  },
  {
   "cell_type": "code",
   "execution_count": 13,
   "id": "da3411f5",
   "metadata": {},
   "outputs": [
    {
     "data": {
      "image/png": "[encoded data removed]",
      "text/plain": [
       "<Figure size 252x252 with 1 Axes>"
      ]
     },
     "metadata": {
      "image/png": {
       "height": 243,
       "width": 260
      },
      "needs_background": "light"
     },
     "output_type": "display_data"
    }
   ],
   "source": [
    "fig, ax = plt.subplots(1, 1, figsize=(3.5, 3.5))\n",
    "\n",
    "x = [1e3, 2e3, 3e3, 4e3, 5e3, 8e3]\n",
    "ax.plot(x, [x / 60 for x in timing_res[1]], label='#cpu=1', linestyle='--', marker=\".\")\n",
    "ax.plot(x, [x / 60 for x in timing_res[2]], label='#cpu=2', linestyle='--', marker=\".\")\n",
    "ax.plot(x, [x / 60 for x in timing_res[4]], label='#cpu=4', linestyle='--', marker=\".\")\n",
    "ax.plot(x, [x / 60 for x in timing_res[8]], label='#cpu=8', linestyle='--', marker=\".\")\n",
    "\n",
    "ax.set_xlabel(\"Dataset size (thousands of cells per sample)\", fontsize=10)\n",
    "ax.set_ylabel(\"Running time (min)\", fontsize=12)\n",
    "ax.set_ylim([0, 3.5])\n",
    "ax.set_xticks([2000, 4000, 6000, 8000])\n",
    "ax.set_xticklabels([2, 4, 6, 8])\n",
    "ax.legend(loc='upper left')\n",
    "ax.grid(\":\")\n",
    "\n",
    "plt.tight_layout()\n",
    "plt.show()"
   ]
  },
  {
   "cell_type": "code",
   "execution_count": null,
   "id": "f9f84139",
   "metadata": {},
   "outputs": [],
   "source": []
  }
 ],
 "metadata": {
  "kernelspec": {
   "display_name": "Python 3 (ipykernel)",
   "language": "python",
   "name": "python3"
  },
  "language_info": {
   "codemirror_mode": {
    "name": "ipython",
    "version": 3
   },
   "file_extension": ".py",
   "mimetype": "text/x-python",
   "name": "python",
   "nbconvert_exporter": "python",
   "pygments_lexer": "ipython3",
   "version": "3.8.10"
  }
 },
 "nbformat": 4,
 "nbformat_minor": 5
}
